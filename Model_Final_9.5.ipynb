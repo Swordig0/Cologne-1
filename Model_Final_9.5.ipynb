{
 "cells": [
  {
   "cell_type": "code",
   "execution_count": 25,
   "metadata": {},
   "outputs": [],
   "source": [
    "import cv2\n",
    "import numpy as np\n",
    "import serial\n",
    "from tensorflow.keras.models import load_model\n",
    "from tensorflow.keras.preprocessing.image import img_to_array"
   ]
  },
  {
   "cell_type": "code",
   "execution_count": 26,
   "metadata": {},
   "outputs": [],
   "source": [
    "cam = 2\n",
    "\n",
    "model_version = \"my_model_14.0.keras\"\n",
    "Im_Width = 128\n",
    "Im_Height = 128"
   ]
  },
  {
   "cell_type": "code",
   "execution_count": 27,
   "metadata": {},
   "outputs": [],
   "source": [
    "def crop_image(frame, x, y, w, h):\n",
    "    return frame[y:y+h, x:x+w]"
   ]
  },
  {
   "cell_type": "code",
   "execution_count": 28,
   "metadata": {},
   "outputs": [],
   "source": [
    "def measure_brightness(frame):\n",
    "    gray = cv2.cvtColor(frame, cv2.COLOR_BGR2GRAY) \n",
    "    brightness = np.mean(gray)\n",
    "    return brightness "
   ]
  },
  {
   "cell_type": "code",
   "execution_count": 29,
   "metadata": {},
   "outputs": [],
   "source": [
    "def measure_edge_richness(frame):\n",
    "    gray = cv2.cvtColor(frame, cv2.COLOR_BGR2GRAY)  # Convert to grayscale\n",
    "    edges = cv2.Canny(gray, 200, 400)  # Apply Canny edge detection\n",
    "    edge_richness = np.sum(edges)  # Sum of edge pixel intensities\n",
    "    return edge_richness"
   ]
  },
  {
   "cell_type": "code",
   "execution_count": 30,
   "metadata": {},
   "outputs": [],
   "source": [
    "def select_best_frame(frame_buffer):\n",
    "\n",
    "    best_frame = None\n",
    "    highest_brightness = 100\n",
    "    highest_edge_richness = 100000\n",
    "\n",
    "    for frame in frame_buffer:\n",
    "\n",
    "        #Crop\n",
    "        cropped_frame = crop_image(frame, 220, 0, 200, 200)\n",
    "\n",
    "        # Measure brightness\n",
    "        brightness = measure_brightness(cropped_frame)\n",
    "\n",
    "        if brightness > 100:\n",
    "            # Update the best frame if this one is better\n",
    "            if brightness > highest_brightness:\n",
    "                highest_brightness = brightness\n",
    "                best_frame = frame  # Save the frame as the best frame\n",
    "    \n",
    "        elif brightness > 50 and brightness < 100:\n",
    "            # Apply edge detection\n",
    "            edge_richness = measure_edge_richness(cropped_frame)\n",
    "            # Update the best frame if this one is better\n",
    "            if edge_richness > highest_edge_richness:\n",
    "                highest_edge_richness = edge_richness\n",
    "                best_frame = frame  # Save the cropped frame as the best frame\n",
    "\n",
    "    return best_frame  # Returns None if no frames meet the threshold\n"
   ]
  },
  {
   "cell_type": "code",
   "execution_count": 31,
   "metadata": {},
   "outputs": [],
   "source": [
    "def process_frame(frame, target_size):\n",
    "\n",
    "    # Resize the frame to the target size\n",
    "    resized_frame = cv2.resize(frame, target_size)\n",
    "\n",
    "    # Normalize pixel values to [0, 1]\n",
    "    normalized_frame = resized_frame / 255.0\n",
    "\n",
    "    # Convert to NumPy array and add batch dimension\n",
    "    frame_array = img_to_array(normalized_frame)\n",
    "    frame_array = np.expand_dims(frame_array, axis=0)  # Shape: (1, height, width, channels)\n",
    "\n",
    "    return frame_array"
   ]
  },
  {
   "cell_type": "code",
   "execution_count": 32,
   "metadata": {},
   "outputs": [],
   "source": [
    "def setup_serial_connection(port='COM4', baud_rate=9600):\n",
    "    arduino = serial.Serial(port, baud_rate, timeout=1)\n",
    "    print(\"Arduino connected. Waiting for initialization...\")\n",
    "    arduino.flush()  # Clear any remaining data\n",
    "    return arduino"
   ]
  },
  {
   "cell_type": "code",
   "execution_count": 33,
   "metadata": {},
   "outputs": [],
   "source": [
    "def send_to_arduino(arduino, value):\n",
    "    arduino.write(f\"{value}\\n\".encode())\n",
    "    print(f\"Sent: {value}\")"
   ]
  },
  {
   "cell_type": "code",
   "execution_count": 34,
   "metadata": {},
   "outputs": [],
   "source": [
    "def predict_frame(frame, model, target_size):\n",
    "\n",
    "    # Preprocess the frame\n",
    "    frame_array = process_frame(frame, target_size)\n",
    "\n",
    "   # Make a prediction\n",
    "    prediction = model.predict(frame_array)[0][0]  # Get the confidence score\n",
    "    print(f\"Raw Prediction: {prediction}\")\n",
    "\n",
    "    # Interpret the prediction\n",
    "    if prediction > 0.5:\n",
    "        send_to_arduino(arduino, 0)\n",
    "        return \"Non-Defective\", prediction\n",
    "        \n",
    "    else:\n",
    "        send_to_arduino(arduino, 1)\n",
    "        return \"Defective\", prediction\n"
   ]
  },
  {
   "cell_type": "code",
   "execution_count": 35,
   "metadata": {},
   "outputs": [],
   "source": [
    "def capture(cam, model_path, target_size=(Im_Width, Im_Height)):\n",
    "\n",
    "    cap = cv2.VideoCapture(cam)  # Open webcam\n",
    "    frame_buffer = []\n",
    "    max_frames = 10  # Number of frames to evaluate\n",
    "\n",
    "    # Load the model\n",
    "    print(\"Loading model...\") \n",
    "    model = load_model(model_path)\n",
    "    print(\"Model loaded successfully.\")\n",
    "\n",
    "    while True:\n",
    "        ret, frame = cap.read()\n",
    "        if not ret:\n",
    "            print(\"Failed to capture frame. Exiting...\")\n",
    "            break\n",
    "\n",
    "        frame_buffer.append(frame)\n",
    "\n",
    "        # Process the buffer when it's full\n",
    "        if len(frame_buffer) == max_frames:\n",
    "            best_frame = select_best_frame(frame_buffer)\n",
    "            frame_buffer = []  # Clear the buffer\n",
    "\n",
    "            # Process and predict\n",
    "            if best_frame is not None:\n",
    "                feedback, confidence = predict_frame(best_frame, model, target_size)\n",
    "                print(f\"Prediction: {feedback} (Confidence: {confidence:.2f})\")\n",
    "\n",
    "                prob = abs(round(confidence,2)- 0.5)*200\n",
    "\n",
    "                # Display feedback on the frame\n",
    "                cv2.putText(frame, f\"Prediction: {feedback}\", (10, 30),\n",
    "                        cv2.FONT_HERSHEY_SIMPLEX, 1, (0, 255, 0), 2)\n",
    "                cv2.putText(frame, f\"Confidence: {prob:.0f}\", (10, 60),\n",
    "                        cv2.FONT_HERSHEY_SIMPLEX, 1, (0, 255, 0), 2)\n",
    "\n",
    "                # Display the best frame\n",
    "                cv2.imshow(\"Best Frame\", best_frame)\n",
    "\n",
    "            else:\n",
    "                # Load and display the \"no-bottle\" image in the same window\n",
    "                image_path = \"no-bottle.bmp\"\n",
    "                image = cv2.imread(image_path)\n",
    "\n",
    "                if image is None:\n",
    "                    print(\"Error: Could not load 'no-bottle' image.\")\n",
    "                else:\n",
    "                    cv2.putText(image, \"No Bottle!\", (10, 30),\n",
    "                                cv2.FONT_HERSHEY_SIMPLEX, 1, (0, 255, 0), 2)\n",
    "                    cv2.imshow(\"Best Frame\", image)\n",
    "                    \n",
    "\n",
    "        # Exit on 'ESC' key\n",
    "        if cv2.waitKey(1) & 0xFF == 27:\n",
    "            break\n",
    "\n",
    "    cap.release()\n",
    "    cv2.destroyAllWindows()\n"
   ]
  },
  {
   "cell_type": "code",
   "execution_count": 36,
   "metadata": {},
   "outputs": [
    {
     "name": "stdout",
     "output_type": "stream",
     "text": [
      "Arduino connected. Waiting for initialization...\n",
      "Loading model...\n",
      "Model loaded successfully.\n",
      "\u001b[1m1/1\u001b[0m \u001b[32m━━━━━━━━━━━━━━━━━━━━\u001b[0m\u001b[37m\u001b[0m \u001b[1m1s\u001b[0m 1s/step\n",
      "Raw Prediction: 0.03271273151040077\n",
      "Sent: 1\n",
      "Prediction: Defective (Confidence: 0.03)\n",
      "\u001b[1m1/1\u001b[0m \u001b[32m━━━━━━━━━━━━━━━━━━━━\u001b[0m\u001b[37m\u001b[0m \u001b[1m0s\u001b[0m 80ms/step\n",
      "Raw Prediction: 0.2578921616077423\n",
      "Sent: 1\n",
      "Prediction: Defective (Confidence: 0.26)\n",
      "\u001b[1m1/1\u001b[0m \u001b[32m━━━━━━━━━━━━━━━━━━━━\u001b[0m\u001b[37m\u001b[0m \u001b[1m0s\u001b[0m 84ms/step\n",
      "Raw Prediction: 0.00858923140913248\n",
      "Sent: 1\n",
      "Prediction: Defective (Confidence: 0.01)\n",
      "\u001b[1m1/1\u001b[0m \u001b[32m━━━━━━━━━━━━━━━━━━━━\u001b[0m\u001b[37m\u001b[0m \u001b[1m0s\u001b[0m 81ms/step\n",
      "Raw Prediction: 0.00044687901390716434\n",
      "Sent: 1\n",
      "Prediction: Defective (Confidence: 0.00)\n",
      "\u001b[1m1/1\u001b[0m \u001b[32m━━━━━━━━━━━━━━━━━━━━\u001b[0m\u001b[37m\u001b[0m \u001b[1m0s\u001b[0m 78ms/step\n",
      "Raw Prediction: 0.1262766718864441\n",
      "Sent: 1\n",
      "Prediction: Defective (Confidence: 0.13)\n",
      "\u001b[1m1/1\u001b[0m \u001b[32m━━━━━━━━━━━━━━━━━━━━\u001b[0m\u001b[37m\u001b[0m \u001b[1m0s\u001b[0m 84ms/step\n",
      "Raw Prediction: 0.042168281972408295\n",
      "Sent: 1\n",
      "Prediction: Defective (Confidence: 0.04)\n",
      "\u001b[1m1/1\u001b[0m \u001b[32m━━━━━━━━━━━━━━━━━━━━\u001b[0m\u001b[37m\u001b[0m \u001b[1m0s\u001b[0m 79ms/step\n",
      "Raw Prediction: 0.2455901950597763\n",
      "Sent: 1\n",
      "Prediction: Defective (Confidence: 0.25)\n",
      "\u001b[1m1/1\u001b[0m \u001b[32m━━━━━━━━━━━━━━━━━━━━\u001b[0m\u001b[37m\u001b[0m \u001b[1m0s\u001b[0m 76ms/step\n",
      "Raw Prediction: 0.7842394709587097\n",
      "Sent: 0\n",
      "Prediction: Non-Defective (Confidence: 0.78)\n",
      "\u001b[1m1/1\u001b[0m \u001b[32m━━━━━━━━━━━━━━━━━━━━\u001b[0m\u001b[37m\u001b[0m \u001b[1m0s\u001b[0m 78ms/step\n",
      "Raw Prediction: 0.40957897901535034\n",
      "Sent: 1\n",
      "Prediction: Defective (Confidence: 0.41)\n"
     ]
    }
   ],
   "source": [
    "if __name__ == \"__main__\":\n",
    "    model_path = model_version  # Path to your saved model\n",
    "    arduino = setup_serial_connection('COM4')  # Connect once\n",
    "    capture(cam, model_path, target_size=(Im_Width, Im_Height))"
   ]
  }
 ],
 "metadata": {
  "kernelspec": {
   "display_name": "Python 3",
   "language": "python",
   "name": "python3"
  },
  "language_info": {
   "codemirror_mode": {
    "name": "ipython",
    "version": 3
   },
   "file_extension": ".py",
   "mimetype": "text/x-python",
   "name": "python",
   "nbconvert_exporter": "python",
   "pygments_lexer": "ipython3",
   "version": "3.10.0"
  }
 },
 "nbformat": 4,
 "nbformat_minor": 2
}
