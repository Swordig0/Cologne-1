{
 "cells": [
  {
   "cell_type": "markdown",
   "metadata": {},
   "source": [
    "Libraries"
   ]
  },
  {
   "cell_type": "code",
   "execution_count": 2,
   "metadata": {},
   "outputs": [],
   "source": [
    "import os\n",
    "from tensorflow.keras.preprocessing.image import ImageDataGenerator, load_img, img_to_array, save_img\n",
    "import numpy as np"
   ]
  },
  {
   "cell_type": "markdown",
   "metadata": {},
   "source": [
    "# Paths"
   ]
  },
  {
   "cell_type": "code",
   "execution_count": 9,
   "metadata": {},
   "outputs": [],
   "source": [
    "input_dir = r'D:\\Cologne\\non-defective'  # Path to the original dataset\n",
    "output_dir = r'D:\\Cologne\\non-defective_augmented'  # Path to save augmented images"
   ]
  },
  {
   "cell_type": "markdown",
   "metadata": {},
   "source": [
    "# Create the output directory if it doesn't exist"
   ]
  },
  {
   "cell_type": "code",
   "execution_count": 10,
   "metadata": {},
   "outputs": [],
   "source": [
    "if not os.path.exists(output_dir):\n",
    "    os.makedirs(output_dir)\n"
   ]
  },
  {
   "cell_type": "markdown",
   "metadata": {},
   "source": [
    "# Initialize ImageDataGenerator with augmentation options"
   ]
  },
  {
   "cell_type": "code",
   "execution_count": 11,
   "metadata": {},
   "outputs": [],
   "source": [
    "datagen = ImageDataGenerator(\n",
    "    rotation_range=20,          # Random rotations\n",
    "    width_shift_range=0.2,      # Horizontal shift\n",
    "    height_shift_range=0.2,     # Vertical shift\n",
    "    shear_range=0.2,            # Shear transformations\n",
    "    zoom_range=0.2,             # Zoom in/out\n",
    "    horizontal_flip=True,       # Horizontal flip\n",
    "    fill_mode=\"nearest\"         # Fill mode for empty pixels\n",
    ")"
   ]
  },
  {
   "cell_type": "markdown",
   "metadata": {},
   "source": [
    "# Loop through each image in the input directory"
   ]
  },
  {
   "cell_type": "code",
   "execution_count": 12,
   "metadata": {},
   "outputs": [
    {
     "ename": "NotADirectoryError",
     "evalue": "[WinError 267] The directory name is invalid: 'D:\\\\Cologne\\\\non-defective\\\\IMG_20241212_164351.jpg'",
     "output_type": "error",
     "traceback": [
      "\u001b[1;31m---------------------------------------------------------------------------\u001b[0m",
      "\u001b[1;31mNotADirectoryError\u001b[0m                        Traceback (most recent call last)",
      "Cell \u001b[1;32mIn[12], line 8\u001b[0m\n\u001b[0;32m      5\u001b[0m \u001b[38;5;28;01mif\u001b[39;00m \u001b[38;5;129;01mnot\u001b[39;00m os\u001b[38;5;241m.\u001b[39mpath\u001b[38;5;241m.\u001b[39mexists(output_class_path):\n\u001b[0;32m      6\u001b[0m     os\u001b[38;5;241m.\u001b[39mmakedirs(output_class_path)\n\u001b[1;32m----> 8\u001b[0m \u001b[38;5;28;01mfor\u001b[39;00m image_file \u001b[38;5;129;01min\u001b[39;00m \u001b[43mos\u001b[49m\u001b[38;5;241;43m.\u001b[39;49m\u001b[43mlistdir\u001b[49m\u001b[43m(\u001b[49m\u001b[43mclass_path\u001b[49m\u001b[43m)\u001b[49m:\n\u001b[0;32m      9\u001b[0m     image_path \u001b[38;5;241m=\u001b[39m os\u001b[38;5;241m.\u001b[39mpath\u001b[38;5;241m.\u001b[39mjoin(class_path, image_file)\n\u001b[0;32m     10\u001b[0m     image \u001b[38;5;241m=\u001b[39m load_img(image_path)  \u001b[38;5;66;03m# Load image\u001b[39;00m\n",
      "\u001b[1;31mNotADirectoryError\u001b[0m: [WinError 267] The directory name is invalid: 'D:\\\\Cologne\\\\non-defective\\\\IMG_20241212_164351.jpg'"
     ]
    }
   ],
   "source": [
    "for class_dir in os.listdir(input_dir):\n",
    "    class_path = os.path.join(input_dir, class_dir)\n",
    "    output_class_path = os.path.join(output_dir, class_dir)\n",
    "\n",
    "    if not os.path.exists(output_class_path):\n",
    "        os.makedirs(output_class_path)\n",
    "\n",
    "    for image_file in os.listdir(class_path):\n",
    "        image_path = os.path.join(class_path, image_file)\n",
    "        image = load_img(image_path)  # Load image\n",
    "        image_array = img_to_array(image)  # Convert to array\n",
    "        image_array = np.expand_dims(image_array, axis=0)  # Add batch dimension\n",
    "\n",
    "        # Generate augmented images\n",
    "        save_prefix = os.path.splitext(image_file)[0]  # Get the base file name\n",
    "        aug_iter = datagen.flow(image_array, batch_size=1, save_to_dir=output_class_path,\n",
    "                                save_prefix=save_prefix, save_format=\"jpg\")\n",
    "        for _ in range(10):  # Generate 10 augmented images per original image\n",
    "            next(aug_iter)"
   ]
  }
 ],
 "metadata": {
  "kernelspec": {
   "display_name": "Python 3",
   "language": "python",
   "name": "python3"
  },
  "language_info": {
   "codemirror_mode": {
    "name": "ipython",
    "version": 3
   },
   "file_extension": ".py",
   "mimetype": "text/x-python",
   "name": "python",
   "nbconvert_exporter": "python",
   "pygments_lexer": "ipython3",
   "version": "3.10.0"
  }
 },
 "nbformat": 4,
 "nbformat_minor": 2
}
