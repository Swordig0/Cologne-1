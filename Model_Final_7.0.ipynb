{
 "cells": [
  {
   "cell_type": "code",
   "execution_count": 1,
   "metadata": {},
   "outputs": [],
   "source": [
    "import cv2\n",
    "import numpy as np\n",
    "from tensorflow.keras.models import load_model\n",
    "from tensorflow.keras.preprocessing.image import img_to_array"
   ]
  },
  {
   "cell_type": "code",
   "execution_count": 2,
   "metadata": {},
   "outputs": [],
   "source": [
    "cam = 2\n",
    "fps = 240\n",
    "\n",
    "model_version = \"my_model_13.0.keras\"\n",
    "Im_Width = 128\n",
    "Im_Height = 128"
   ]
  },
  {
   "cell_type": "code",
   "execution_count": 3,
   "metadata": {},
   "outputs": [],
   "source": [
    "def crop_image(frame, x, y, w, h):\n",
    "    return frame[y:y+h, x:x+w]"
   ]
  },
  {
   "cell_type": "code",
   "execution_count": 4,
   "metadata": {},
   "outputs": [],
   "source": [
    "def measure_brightness(frame):\n",
    "    gray = cv2.cvtColor(frame, cv2.COLOR_BGR2GRAY) \n",
    "    brightness = np.mean(gray)\n",
    "    return brightness "
   ]
  },
  {
   "cell_type": "code",
   "execution_count": 5,
   "metadata": {},
   "outputs": [],
   "source": [
    "def measure_edge_richness(frame):\n",
    "    gray = cv2.cvtColor(frame, cv2.COLOR_BGR2GRAY)  # Convert to grayscale\n",
    "    edges = cv2.Canny(gray, 200, 400)  # Apply Canny edge detection\n",
    "    edge_richness = np.sum(edges)  # Sum of edge pixel intensities\n",
    "    return edge_richness"
   ]
  },
  {
   "cell_type": "code",
   "execution_count": 6,
   "metadata": {},
   "outputs": [],
   "source": [
    "def select_best_frame(frame_buffer):\n",
    "\n",
    "    best_frame = None\n",
    "    highest_brightness = 50\n",
    "    highest_edge_richness = 150000\n",
    "\n",
    "    for frame in frame_buffer:\n",
    "\n",
    "        #Crop\n",
    "        cropped_frame = crop_image(frame, 220, 0, 200, 200)\n",
    "\n",
    "        # Measure brightness\n",
    "        brightness = measure_brightness(cropped_frame)\n",
    "\n",
    "        if brightness > 200:\n",
    "            # Update the best frame if this one is better\n",
    "            if brightness > highest_brightness:\n",
    "                highest_brightness = brightness\n",
    "                best_frame = frame  # Save the frame as the best frame\n",
    "    \n",
    "        elif brightness > 50 and brightness < 100:\n",
    "            # Apply edge detection\n",
    "            edge_richness = measure_edge_richness(cropped_frame)\n",
    "            # Update the best frame if this one is better\n",
    "            if edge_richness > highest_edge_richness:\n",
    "                highest_edge_richness = edge_richness\n",
    "                best_frame = frame  # Save the cropped frame as the best frame\n",
    "\n",
    "    return best_frame  # Returns None if no frames meet the threshold\n"
   ]
  },
  {
   "cell_type": "code",
   "execution_count": 7,
   "metadata": {},
   "outputs": [],
   "source": [
    "def process_frame(frame, target_size):\n",
    "\n",
    "    # Resize the frame to the target size\n",
    "    resized_frame = cv2.resize(frame, target_size)\n",
    "\n",
    "    # Normalize pixel values to [0, 1]\n",
    "    normalized_frame = resized_frame / 255.0\n",
    "\n",
    "    # Convert to NumPy array and add batch dimension\n",
    "    frame_array = img_to_array(normalized_frame)\n",
    "    frame_array = np.expand_dims(frame_array, axis=0)  # Shape: (1, height, width, channels)\n",
    "\n",
    "    return frame_array"
   ]
  },
  {
   "cell_type": "code",
   "execution_count": 8,
   "metadata": {},
   "outputs": [],
   "source": [
    "def predict_frame(frame, model, target_size):\n",
    "\n",
    "    # Preprocess the frame\n",
    "    frame_array = process_frame(frame, target_size)\n",
    "\n",
    "    # Make a prediction\n",
    "    predictions = model.predict(frame_array)  # Outputs probabilities for each class\n",
    "    predicted_class = np.argmax(predictions[0])  # Get the index of the class with the highest probability\n",
    "    confidence = predictions[0][predicted_class]  # Confidence score for the predicted class\n",
    "\n",
    "    # Map class indices to labels\n",
    "    class_labels = {0: \"Defective\", 2: \"Non-Defective\", 1: \"No Bottle\"}\n",
    "    predicted_label = class_labels[predicted_class]\n",
    "    \n",
    "    return predicted_label, confidence"
   ]
  },
  {
   "cell_type": "code",
   "execution_count": 9,
   "metadata": {},
   "outputs": [],
   "source": [
    "def capture(cam, fps, model_path, target_size=(Im_Width, Im_Height)):\n",
    "\n",
    "    cap = cv2.VideoCapture(cam)  # Open webcam\n",
    "    # Set desired frame rate\n",
    "    desired_fps = fps\n",
    "    #cap.set(cv2.CAP_PROP_FPS, desired_fps)\n",
    "\n",
    "    frame_buffer = []\n",
    "    max_frames = 15  # Number of frames to evaluate\n",
    "\n",
    "    # Load the model\n",
    "    print(\"Loading model...\")\n",
    "    model = load_model(model_path)\n",
    "    print(\"Model loaded successfully.\")\n",
    "\n",
    "    while True:\n",
    "\n",
    "        ret, frame = cap.read()\n",
    "        if not ret:\n",
    "            print(\"Failed to capture frame. Exiting...\")\n",
    "            break\n",
    "\n",
    "        frame_buffer.append(frame)\n",
    "\n",
    "        # Process the buffer when it's full\n",
    "        if len(frame_buffer) == max_frames:\n",
    "            best_frame = select_best_frame(frame_buffer)\n",
    "            frame_buffer = []  # Clear the buffer\n",
    "\n",
    "            # Process and predict\n",
    "            if best_frame is not None:\n",
    "                feedback, confidence = predict_frame(best_frame, model, target_size)\n",
    "                print(f\"Prediction: {feedback} (Confidence: {confidence:.2f})\")\n",
    "\n",
    "                cv2.putText(best_frame, f\"Prediction: {feedback}\", (10, 30),\n",
    "                    cv2.FONT_HERSHEY_SIMPLEX, 1, (0, 255, 0), 2)\n",
    "                cv2.putText(best_frame, f\"Confidence: {confidence:.2f}\", (10, 60),\n",
    "                    cv2.FONT_HERSHEY_SIMPLEX, 1, (0, 255, 0), 2)\n",
    "            \n",
    "                # Display the best frame\n",
    "                cv2.imshow(\"Best Frame\", best_frame)\n",
    "            '''\n",
    "            else:\n",
    "                image_path = \"no-bottle.bmp\"\n",
    "                image = cv2.imread(image_path)\n",
    "                # Display the image in a window\n",
    "                cv2.putText(best_frame, f\"No Bottle!\", (10, 60),\n",
    "                    cv2.FONT_HERSHEY_SIMPLEX, 1, (0, 255, 0), 2)\n",
    "                cv2.imshow(\"Pre-Saved Image\", image)'''\n",
    "\n",
    "            # Exit on 'ESC' key\n",
    "            if cv2.waitKey(1) & 0xFF == 27:\n",
    "                break\n",
    "\n",
    "    cap.release()\n",
    "    cv2.destroyAllWindows()"
   ]
  },
  {
   "cell_type": "code",
   "execution_count": 10,
   "metadata": {},
   "outputs": [
    {
     "name": "stdout",
     "output_type": "stream",
     "text": [
      "Loading model...\n",
      "Model loaded successfully.\n",
      "\u001b[1m1/1\u001b[0m \u001b[32m━━━━━━━━━━━━━━━━━━━━\u001b[0m\u001b[37m\u001b[0m \u001b[1m1s\u001b[0m 1s/step\n",
      "Prediction: No Bottle (Confidence: 0.45)\n",
      "\u001b[1m1/1\u001b[0m \u001b[32m━━━━━━━━━━━━━━━━━━━━\u001b[0m\u001b[37m\u001b[0m \u001b[1m0s\u001b[0m 77ms/step\n",
      "Prediction: No Bottle (Confidence: 0.47)\n",
      "\u001b[1m1/1\u001b[0m \u001b[32m━━━━━━━━━━━━━━━━━━━━\u001b[0m\u001b[37m\u001b[0m \u001b[1m0s\u001b[0m 74ms/step\n",
      "Prediction: Defective (Confidence: 1.00)\n",
      "\u001b[1m1/1\u001b[0m \u001b[32m━━━━━━━━━━━━━━━━━━━━\u001b[0m\u001b[37m\u001b[0m \u001b[1m0s\u001b[0m 72ms/step\n",
      "Prediction: Defective (Confidence: 0.99)\n"
     ]
    }
   ],
   "source": [
    "if __name__ == \"__main__\":\n",
    "    model_path = model_version  # Path to your saved model\n",
    "    capture(cam, fps, model_path, target_size=(Im_Width, Im_Height))"
   ]
  }
 ],
 "metadata": {
  "kernelspec": {
   "display_name": "Python 3",
   "language": "python",
   "name": "python3"
  },
  "language_info": {
   "codemirror_mode": {
    "name": "ipython",
    "version": 3
   },
   "file_extension": ".py",
   "mimetype": "text/x-python",
   "name": "python",
   "nbconvert_exporter": "python",
   "pygments_lexer": "ipython3",
   "version": "3.10.0"
  }
 },
 "nbformat": 4,
 "nbformat_minor": 2
}
