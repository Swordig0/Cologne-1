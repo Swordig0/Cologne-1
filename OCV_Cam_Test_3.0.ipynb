{
 "cells": [
  {
   "cell_type": "code",
   "execution_count": 11,
   "metadata": {},
   "outputs": [],
   "source": [
    "import cv2\n",
    "import time"
   ]
  },
  {
   "cell_type": "code",
   "execution_count": 12,
   "metadata": {},
   "outputs": [
    {
     "name": "stdout",
     "output_type": "stream",
     "text": [
      "Camera opened successfully\n"
     ]
    }
   ],
   "source": [
    "# Open the camera\n",
    "cap = cv2.VideoCapture(2)  # Default camera\n",
    "\n",
    "if not cap.isOpened():\n",
    "    print(\"Cannot open camera\")\n",
    "else:\n",
    "    print(\"Camera opened successfully\")\n",
    "\n",
    "# Read and display frames\n",
    "while True:\n",
    "    ret, frame = cap.read()  # Capture frame\n",
    "    if not ret:\n",
    "        print(\"Failed to grab frame\")\n",
    "        break\n",
    "\n",
    "    '''\n",
    "    # Set resolution\n",
    "    cap.set(cv2.CAP_PROP_FRAME_WIDTH, 640)\n",
    "    cap.set(cv2.CAP_PROP_FRAME_HEIGHT, 480)\n",
    "\n",
    "    \n",
    "\n",
    "    # Verify resolution\n",
    "    width = cap.get(cv2.CAP_PROP_FRAME_WIDTH)\n",
    "    height = cap.get(cv2.CAP_PROP_FRAME_HEIGHT)\n",
    "    print(f\"Resolution: {width}x{height}\")'''\n",
    "\n",
    "    # Set desired frame rate\n",
    "    #desired_fps = 240  # Set this to your camera's maximum frame rate\n",
    "    #cap.set(cv2.CAP_PROP_FPS, desired_fps)\n",
    "\n",
    "    cv2.imshow(\"Camera Feed\", frame)  # Display the frame\n",
    "\n",
    "    # Verify the frame rate\n",
    "    #actual_fps = cap.get(cv2.CAP_PROP_FPS)\n",
    "    #print(f\"Set Frame Rate: {desired_fps}, Actual Frame Rate: {actual_fps}\")\n",
    "\n",
    "    '''\n",
    "    #Frame Counter\n",
    "    frame_count = 0\n",
    "    start_time = time.time()\n",
    "\n",
    "    while frame_count < 100:  # Capture 100 frames\n",
    "        ret, frame = cap.read()\n",
    "        if not ret:\n",
    "            break\n",
    "        frame_count += 1\n",
    "\n",
    "    end_time = time.time()\n",
    "    fps = frame_count / (end_time - start_time)\n",
    "    print(f\"Effective Frame Rate: {fps:.2f} FPS\")\n",
    "    '''\n",
    "\n",
    "    # Exit on pressing 'q'\n",
    "    if cv2.waitKey(1) & 0xFF == ord('q'):\n",
    "        break\n",
    "\n",
    "# Release the camera and close all windows\n",
    "cap.release()\n",
    "cv2.destroyAllWindows()\n"
   ]
  },
  {
   "cell_type": "code",
   "execution_count": 13,
   "metadata": {},
   "outputs": [
    {
     "name": "stdout",
     "output_type": "stream",
     "text": [
      "Camera opened successfully\n"
     ]
    },
    {
     "ename": "KeyboardInterrupt",
     "evalue": "",
     "output_type": "error",
     "traceback": [
      "\u001b[1;31m---------------------------------------------------------------------------\u001b[0m",
      "\u001b[1;31mKeyboardInterrupt\u001b[0m                         Traceback (most recent call last)",
      "Cell \u001b[1;32mIn[13], line 9\u001b[0m\n\u001b[0;32m      7\u001b[0m \u001b[38;5;66;03m# Read and display frames\u001b[39;00m\n\u001b[0;32m      8\u001b[0m \u001b[38;5;28;01mwhile\u001b[39;00m \u001b[38;5;28;01mTrue\u001b[39;00m:\n\u001b[1;32m----> 9\u001b[0m     ret, frame \u001b[38;5;241m=\u001b[39m \u001b[43mcap\u001b[49m\u001b[38;5;241;43m.\u001b[39;49m\u001b[43mread\u001b[49m\u001b[43m(\u001b[49m\u001b[43m)\u001b[49m  \u001b[38;5;66;03m# Capture frame\u001b[39;00m\n\u001b[0;32m     10\u001b[0m     \u001b[38;5;28;01mif\u001b[39;00m \u001b[38;5;129;01mnot\u001b[39;00m ret:\n\u001b[0;32m     11\u001b[0m         \u001b[38;5;28mprint\u001b[39m(\u001b[38;5;124m\"\u001b[39m\u001b[38;5;124mFailed to grab frame\u001b[39m\u001b[38;5;124m\"\u001b[39m)\n",
      "\u001b[1;31mKeyboardInterrupt\u001b[0m: "
     ]
    }
   ],
   "source": [
    "cap = cv2.VideoCapture(1)\n",
    "if not cap.isOpened():\n",
    "    print(\"Cannot open camera\")\n",
    "else:\n",
    "    print(\"Camera opened successfully\")\n",
    "\n",
    "# Read and display frames\n",
    "while True:\n",
    "    ret, frame = cap.read()  # Capture frame\n",
    "    if not ret:\n",
    "        print(\"Failed to grab frame\")\n",
    "        break\n",
    "    \n",
    "    cv2.imshow(\"Camera Feed\", frame)  # Display the frame\n",
    "# Set desired frame rate\n",
    "desired_fps = 30  # Set this to your camera's maximum frame rate\n",
    "#cap.set(cv2.CAP_PROP_FPS, desired_fps)\n",
    "\n",
    "# Verify the frame rate\n",
    "#actual_fps = cap.get(cv2.CAP_PROP_FPS)\n",
    "#print(f\"Set Frame Rate: {desired_fps}, Actual Frame Rate: {actual_fps}\")\n"
   ]
  }
 ],
 "metadata": {
  "kernelspec": {
   "display_name": "Python 3",
   "language": "python",
   "name": "python3"
  },
  "language_info": {
   "codemirror_mode": {
    "name": "ipython",
    "version": 3
   },
   "file_extension": ".py",
   "mimetype": "text/x-python",
   "name": "python",
   "nbconvert_exporter": "python",
   "pygments_lexer": "ipython3",
   "version": "3.10.0"
  }
 },
 "nbformat": 4,
 "nbformat_minor": 2
}
