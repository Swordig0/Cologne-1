{
 "cells": [
  {
   "cell_type": "code",
   "execution_count": 5,
   "metadata": {},
   "outputs": [
    {
     "name": "stdout",
     "output_type": "stream",
     "text": [
      "Frames captured: 300\n",
      "Frames per second (FPS): 29.96\n"
     ]
    }
   ],
   "source": [
    "import cv2\n",
    "import time\n",
    "\n",
    "def count_frames_per_second(camera_index=0, duration=5):\n",
    "    \"\"\"\n",
    "    Counts the number of frames captured per second from the camera.\n",
    "\n",
    "    Args:\n",
    "        camera_index (int): Index of the camera (default is 0 for the first camera).\n",
    "        duration (int): Duration (in seconds) to count frames.\n",
    "\n",
    "    Returns:\n",
    "        None\n",
    "    \"\"\"\n",
    "    cap = cv2.VideoCapture(camera_index)\n",
    "    if not cap.isOpened():\n",
    "        print(\"Error: Cannot access the camera.\")\n",
    "        return\n",
    "    \n",
    "    \n",
    "    start_time = time.time()\n",
    "    frame_count = 0\n",
    "\n",
    "    while True:\n",
    "        ret, frame = cap.read()\n",
    "        if not ret:\n",
    "            print(\"Error: Failed to capture frame.\")\n",
    "            break\n",
    "        cv2.imshow(\"Best Frame\", frame)\n",
    "        frame_count += 1\n",
    "        elapsed_time = time.time() - start_time\n",
    "\n",
    "        if elapsed_time >= duration:  # Stop after the specified duration\n",
    "            break\n",
    "\n",
    "    cap.release()\n",
    "    fps = frame_count / elapsed_time\n",
    "    print(f\"Frames captured: {frame_count}\")\n",
    "    print(f\"Frames per second (FPS): {fps:.2f}\")\n",
    "\n",
    "# Example usage\n",
    "count_frames_per_second(camera_index=0, duration=10)\n"
   ]
  }
 ],
 "metadata": {
  "kernelspec": {
   "display_name": "Python 3",
   "language": "python",
   "name": "python3"
  },
  "language_info": {
   "codemirror_mode": {
    "name": "ipython",
    "version": 3
   },
   "file_extension": ".py",
   "mimetype": "text/x-python",
   "name": "python",
   "nbconvert_exporter": "python",
   "pygments_lexer": "ipython3",
   "version": "3.10.0"
  }
 },
 "nbformat": 4,
 "nbformat_minor": 2
}
