{
 "cells": [
  {
   "cell_type": "code",
   "execution_count": 1,
   "metadata": {},
   "outputs": [
    {
     "name": "stdout",
     "output_type": "stream",
     "text": [
      "Loading model...\n",
      "Model loaded successfully.\n",
      "Webcam opened. Press 'ESC' to exit.\n",
      "\u001b[1m1/1\u001b[0m \u001b[32m━━━━━━━━━━━━━━━━━━━━\u001b[0m\u001b[37m\u001b[0m \u001b[1m2s\u001b[0m 2s/step\n",
      "Raw Prediction: 0.0002158207498723641\n",
      "Prediction: Defective (Confidence: 0.00)\n",
      "1\n"
     ]
    },
    {
     "name": "stderr",
     "output_type": "stream",
     "text": [
      "Connection to (192.168.1.111, 502) failed: timed out\n"
     ]
    },
    {
     "name": "stdout",
     "output_type": "stream",
     "text": [
      "Unable to connect to PLC\n",
      "\u001b[1m1/1\u001b[0m \u001b[32m━━━━━━━━━━━━━━━━━━━━\u001b[0m\u001b[37m\u001b[0m \u001b[1m0s\u001b[0m 394ms/step\n",
      "Raw Prediction: 2.5629296942497604e-06\n",
      "Prediction: Defective (Confidence: 0.00)\n",
      "1\n"
     ]
    },
    {
     "name": "stderr",
     "output_type": "stream",
     "text": [
      "Connection to (192.168.1.111, 502) failed: timed out\n"
     ]
    },
    {
     "name": "stdout",
     "output_type": "stream",
     "text": [
      "Unable to connect to PLC\n",
      "\u001b[1m1/1\u001b[0m \u001b[32m━━━━━━━━━━━━━━━━━━━━\u001b[0m\u001b[37m\u001b[0m \u001b[1m0s\u001b[0m 433ms/step\n",
      "Raw Prediction: 1.9975419718321064e-07\n",
      "Prediction: Defective (Confidence: 0.00)\n",
      "1\n"
     ]
    },
    {
     "name": "stderr",
     "output_type": "stream",
     "text": [
      "Connection to (192.168.1.111, 502) failed: timed out\n"
     ]
    },
    {
     "name": "stdout",
     "output_type": "stream",
     "text": [
      "Unable to connect to PLC\n",
      "\u001b[1m1/1\u001b[0m \u001b[32m━━━━━━━━━━━━━━━━━━━━\u001b[0m\u001b[37m\u001b[0m \u001b[1m0s\u001b[0m 444ms/step\n",
      "Raw Prediction: 3.0551447594007186e-07\n",
      "Prediction: Defective (Confidence: 0.00)\n",
      "1\n"
     ]
    },
    {
     "name": "stderr",
     "output_type": "stream",
     "text": [
      "Connection to (192.168.1.111, 502) failed: timed out\n"
     ]
    },
    {
     "name": "stdout",
     "output_type": "stream",
     "text": [
      "Unable to connect to PLC\n",
      "\u001b[1m1/1\u001b[0m \u001b[32m━━━━━━━━━━━━━━━━━━━━\u001b[0m\u001b[37m\u001b[0m \u001b[1m0s\u001b[0m 361ms/step\n",
      "Raw Prediction: 4.147290383116342e-06\n",
      "Prediction: Defective (Confidence: 0.00)\n",
      "1\n"
     ]
    },
    {
     "name": "stderr",
     "output_type": "stream",
     "text": [
      "Connection to (192.168.1.111, 502) failed: timed out\n"
     ]
    },
    {
     "name": "stdout",
     "output_type": "stream",
     "text": [
      "Unable to connect to PLC\n",
      "Exiting...\n"
     ]
    }
   ],
   "source": [
    "import cv2\n",
    "import numpy as np\n",
    "from tensorflow.keras.models import load_model\n",
    "from tensorflow.keras.preprocessing.image import img_to_array\n",
    "from pymodbus.client import ModbusTcpClient\n",
    "\n",
    "\n",
    "cam = 1\n",
    "\n",
    "#value = 0\n",
    "#ip_address = 192.168.1.1\n",
    "#port = 100\n",
    "#register = M0\n",
    "\n",
    "def send_to_plc(value, ip_address, port, register):\n",
    "    \"\"\"\n",
    "    Sends the prediction value to a PLC using Modbus TCP.\n",
    "    \n",
    "    Args:\n",
    "        value (int): Value to send (1 for defective, 0 for non-defective).\n",
    "        ip_address (str): IP address of the PLC.\n",
    "        port (int): Port number for Modbus communication.\n",
    "        register (int): Modbus register to write the value to.\n",
    "    \"\"\"\n",
    "    client = ModbusTcpClient(ip_address, port=port)\n",
    "    if not client.connect():\n",
    "        print(\"Unable to connect to PLC\")\n",
    "        return False\n",
    "\n",
    "    # Write the value to the Modbus register\n",
    "    result = client.write_register(register, value)\n",
    "    client.close()\n",
    "    return result.isError() == False\n",
    "\n",
    "def process_frame(frame, target_size):\n",
    "    \"\"\"\n",
    "    Processes a webcam frame for model prediction.\n",
    "    \n",
    "    Args:\n",
    "        frame (np.array): Captured frame from the webcam.\n",
    "        target_size (tuple): Target size for resizing the frame (width, height).\n",
    "\n",
    "    Returns:\n",
    "        np.array: Preprocessed image ready for model prediction.\n",
    "    \"\"\"\n",
    "    # Resize the frame to the target size\n",
    "    resized_frame = cv2.resize(frame, target_size)\n",
    "\n",
    "    # Normalize pixel values to [0, 1]\n",
    "    normalized_frame = resized_frame / 255.0\n",
    "\n",
    "    # Convert to NumPy array and add batch dimension\n",
    "    frame_array = img_to_array(normalized_frame)\n",
    "    frame_array = np.expand_dims(frame_array, axis=0)  # Shape: (1, height, width, channels)\n",
    "\n",
    "    return frame_array\n",
    "\n",
    "def predict_frame(frame, model, target_size):\n",
    "    \"\"\"\n",
    "    Predicts the class of a single frame using the model.\n",
    "\n",
    "    Args:\n",
    "        frame (np.array): Captured frame from the webcam.\n",
    "        model: Loaded Keras model.\n",
    "        target_size (tuple): Target size for resizing the frame.\n",
    "\n",
    "    Returns:\n",
    "        str: Predicted class label.\n",
    "        float: Confidence score.\n",
    "    \"\"\"\n",
    "    # Preprocess the frame\n",
    "    frame_array = process_frame(frame, target_size)\n",
    "\n",
    "    # Make a prediction\n",
    "    prediction = model.predict(frame_array)[0][0]  # Get the confidence score\n",
    "    print(f\"Raw Prediction: {prediction}\")\n",
    "\n",
    "    # Interpret the prediction\n",
    "    if prediction > 0.5:\n",
    "        return \"Non-Defective\", prediction\n",
    "    else:\n",
    "        return \"Defective\", prediction\n",
    "\n",
    "def run_webcam_with_model(model_path, target_size=(640, 480)):\n",
    "    \"\"\"\n",
    "    Opens the webcam, captures frames, and processes them using the model.\n",
    "\n",
    "    Args:\n",
    "        model_path (str): Path to the saved Keras model.\n",
    "        target_size (tuple): Target size for resizing frames (width, height).\n",
    "    \"\"\"\n",
    "    # Load the model\n",
    "    print(\"Loading model...\")\n",
    "    model = load_model(model_path)\n",
    "    print(\"Model loaded successfully.\")\n",
    "\n",
    "    # Open the webcam\n",
    "    cap = cv2.VideoCapture(cam)\n",
    "    if not cap.isOpened():\n",
    "        raise IOError(\"Cannot open the webcam\")\n",
    "\n",
    "    print(\"Webcam opened. Press 'ESC' to exit.\")\n",
    "    try:\n",
    "        while True:\n",
    "            # Capture frame from the webcam\n",
    "            ret, frame = cap.read()\n",
    "            if not ret:\n",
    "                print(\"Failed to capture frame. Exiting...\")\n",
    "                break\n",
    "\n",
    "            # Process and predict\n",
    "            feedback, confidence = predict_frame(frame, model, target_size)\n",
    "            print(f\"Prediction: {feedback} (Confidence: {confidence:.2f})\")\n",
    "\n",
    "            prob = abs(round(confidence,2)- 0.5)*200\n",
    "\n",
    "            # Display feedback on the frame\n",
    "            cv2.putText(frame, f\"Prediction: {feedback}\", (10, 30),\n",
    "                        cv2.FONT_HERSHEY_SIMPLEX, 1, (0, 255, 0), 2)\n",
    "            cv2.putText(frame, f\"Confidence: {prob:.0f}\", (10, 60),\n",
    "                        cv2.FONT_HERSHEY_SIMPLEX, 1, (0, 255, 0), 2)\n",
    "\n",
    "            # Show the frame in a window\n",
    "            cv2.imshow(\"Webcam Feed\", frame)\n",
    "\n",
    "            if feedback == \"defective\":\n",
    "                value = 0\n",
    "            else:\n",
    "                value = 1\n",
    "\n",
    "            print(value)\n",
    "\n",
    "            send_to_plc(1, '192.168.1.111', 502, 1)\n",
    "\n",
    "            # Exit on 'ESC' key\n",
    "            if cv2.waitKey(1) & 0xFF == 27:  # 27 is the ASCII code for ESC\n",
    "                print(\"Exiting...\")\n",
    "                break\n",
    "\n",
    "    finally:\n",
    "        # Release resources\n",
    "        cap.release()\n",
    "        cv2.destroyAllWindows()\n",
    "\n",
    "# Run the script\n",
    "if __name__ == \"__main__\":\n",
    "    model_path = \"my_model_8.0.keras\"  # Path to your saved model\n",
    "    run_webcam_with_model(model_path, target_size=(640, 480))\n"
   ]
  }
 ],
 "metadata": {
  "kernelspec": {
   "display_name": "Python 3",
   "language": "python",
   "name": "python3"
  },
  "language_info": {
   "codemirror_mode": {
    "name": "ipython",
    "version": 3
   },
   "file_extension": ".py",
   "mimetype": "text/x-python",
   "name": "python",
   "nbconvert_exporter": "python",
   "pygments_lexer": "ipython3",
   "version": "3.10.0"
  }
 },
 "nbformat": 4,
 "nbformat_minor": 2
}
