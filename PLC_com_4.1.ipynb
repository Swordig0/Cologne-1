{
 "cells": [
  {
   "cell_type": "code",
   "execution_count": null,
   "metadata": {},
   "outputs": [
    {
     "name": "stdout",
     "output_type": "stream",
     "text": [
      "Connection successful\n",
      "Output Y0 turned ON (Coil 1536)\n"
     ]
    }
   ],
   "source": [
    "from pymodbus.client import ModbusTcpClient\n",
    "\n",
    "\n",
    "# PLC connection settings\n",
    "PLC_IP = \"192.168.1.111\"  # Replace with the PLC's IP address\n",
    "PLC_PORT = 502           # Default Modbus TCP port\n",
    "\n",
    "# Create Modbus client\n",
    "client = ModbusTcpClient(PLC_IP, port=PLC_PORT)\n",
    "\n",
    "# Connect to the PLC\n",
    "if client.connect():\n",
    "    print(\"Connection successful\")\n",
    "    \n",
    "    # Write to Coil (Turn ON Y0)\n",
    "    coil_address = 1536  # Modbus address for Y0\n",
    "    write_result = client.write_coil(address=coil_address, value=True)  # Write 'True' to turn ON\n",
    "    if write_result.isError():\n",
    "        print(\"Write Error:\", write_result)\n",
    "    else:\n",
    "        print(f\"Output Y0 turned ON (Coil {coil_address})\")\n",
    "\n",
    "    # Close connection\n",
    "    client.close()\n",
    "else:\n",
    "    print(\"Failed to connect to PLC\")\n"
   ]
  }
 ],
 "metadata": {
  "kernelspec": {
   "display_name": "Python 3",
   "language": "python",
   "name": "python3"
  },
  "language_info": {
   "codemirror_mode": {
    "name": "ipython",
    "version": 3
   },
   "file_extension": ".py",
   "mimetype": "text/x-python",
   "name": "python",
   "nbconvert_exporter": "python",
   "pygments_lexer": "ipython3",
   "version": "3.10.0"
  }
 },
 "nbformat": 4,
 "nbformat_minor": 2
}
