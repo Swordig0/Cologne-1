{
 "cells": [
  {
   "cell_type": "code",
   "execution_count": 20,
   "metadata": {},
   "outputs": [
    {
     "name": "stdout",
     "output_type": "stream",
     "text": [
      "Sending value to Arduino: 1\n"
     ]
    },
    {
     "ename": "AttributeError",
     "evalue": "'int' object has no attribute 'encode'",
     "output_type": "error",
     "traceback": [
      "\u001b[1;31m---------------------------------------------------------------------------\u001b[0m",
      "\u001b[1;31mAttributeError\u001b[0m                            Traceback (most recent call last)",
      "Cell \u001b[1;32mIn[20], line 24\u001b[0m\n\u001b[0;32m     22\u001b[0m \u001b[38;5;66;03m# Example: Send a test value (use this in your main loop or function)\u001b[39;00m\n\u001b[0;32m     23\u001b[0m \u001b[38;5;28;01mfor\u001b[39;00m i \u001b[38;5;129;01min\u001b[39;00m \u001b[38;5;28mrange\u001b[39m(\u001b[38;5;241m10\u001b[39m):\n\u001b[1;32m---> 24\u001b[0m     \u001b[43msend_to_arduino\u001b[49m\u001b[43m(\u001b[49m\u001b[38;5;241;43m1\u001b[39;49m\u001b[43m,\u001b[49m\u001b[43m \u001b[49m\u001b[38;5;124;43m'\u001b[39;49m\u001b[38;5;124;43mCOM4\u001b[39;49m\u001b[38;5;124;43m'\u001b[39;49m\u001b[43m,\u001b[49m\u001b[43m \u001b[49m\u001b[38;5;241;43m9600\u001b[39;49m\u001b[43m)\u001b[49m  \u001b[38;5;66;03m# Replace 'COM3' with your Arduino's port\u001b[39;00m\n\u001b[0;32m     25\u001b[0m     time\u001b[38;5;241m.\u001b[39msleep(\u001b[38;5;241m1\u001b[39m)\n\u001b[0;32m     26\u001b[0m     send_to_arduino(\u001b[38;5;241m0\u001b[39m, \u001b[38;5;124m'\u001b[39m\u001b[38;5;124mCOM4\u001b[39m\u001b[38;5;124m'\u001b[39m, \u001b[38;5;241m9600\u001b[39m)\n",
      "Cell \u001b[1;32mIn[20], line 16\u001b[0m, in \u001b[0;36msend_to_arduino\u001b[1;34m(value, port, baud_rate)\u001b[0m\n\u001b[0;32m     14\u001b[0m     \u001b[38;5;28;01mwith\u001b[39;00m serial\u001b[38;5;241m.\u001b[39mSerial(port, baud_rate, timeout\u001b[38;5;241m=\u001b[39m\u001b[38;5;241m1\u001b[39m) \u001b[38;5;28;01mas\u001b[39;00m arduino:\n\u001b[0;32m     15\u001b[0m         \u001b[38;5;28mprint\u001b[39m(\u001b[38;5;124mf\u001b[39m\u001b[38;5;124m\"\u001b[39m\u001b[38;5;124mSending value to Arduino: \u001b[39m\u001b[38;5;132;01m{\u001b[39;00mvalue\u001b[38;5;132;01m}\u001b[39;00m\u001b[38;5;124m\"\u001b[39m)\n\u001b[1;32m---> 16\u001b[0m         arduino\u001b[38;5;241m.\u001b[39mwrite(\u001b[43mvalue\u001b[49m\u001b[38;5;241;43m.\u001b[39;49m\u001b[43mencode\u001b[49m())  \u001b[38;5;66;03m# Send the value as a string\u001b[39;00m\n\u001b[0;32m     17\u001b[0m         time\u001b[38;5;241m.\u001b[39msleep(\u001b[38;5;241m1\u001b[39m)  \u001b[38;5;66;03m# Short delay to ensure the data is sent\u001b[39;00m\n\u001b[0;32m     18\u001b[0m \u001b[38;5;28;01mexcept\u001b[39;00m serial\u001b[38;5;241m.\u001b[39mSerialException \u001b[38;5;28;01mas\u001b[39;00m e:\n",
      "\u001b[1;31mAttributeError\u001b[0m: 'int' object has no attribute 'encode'"
     ]
    }
   ],
   "source": [
    "import serial\n",
    "import time\n",
    "\n",
    "def send_to_arduino(value, port='COM4', baud_rate=9600):\n",
    "    \"\"\"\n",
    "    Sends a classification result to an Arduino via serial communication.\n",
    "\n",
    "    Args:\n",
    "        value (int): 0 for non-defective, 1 for defective.\n",
    "        port (str): Serial port connected to Arduino (e.g., 'COM3', '/dev/ttyUSB0').\n",
    "        baud_rate (int): Communication speed (default is 9600 baud).\n",
    "    \"\"\"\n",
    "    try:\n",
    "        with serial.Serial(port, baud_rate, timeout=1) as arduino:\n",
    "            print(f\"Sending value to Arduino: {value}\")\n",
    "            arduino.write(value.encode())  # Send the value as a string\n",
    "            time.sleep(1)  # Short delay to ensure the data is sent\n",
    "    except serial.SerialException as e:\n",
    "        print(f\"Error communicating with Arduino: {e}\")\n",
    "\n",
    "\n",
    "# Example: Send a test value (use this in your main loop or function)\n",
    "for i in range(10):\n",
    "    send_to_arduino(1, 'COM4', 9600)  # Replace 'COM3' with your Arduino's port\n",
    "    time.sleep(1)\n",
    "    send_to_arduino(0, 'COM4', 9600)\n"
   ]
  }
 ],
 "metadata": {
  "kernelspec": {
   "display_name": "Python 3",
   "language": "python",
   "name": "python3"
  },
  "language_info": {
   "codemirror_mode": {
    "name": "ipython",
    "version": 3
   },
   "file_extension": ".py",
   "mimetype": "text/x-python",
   "name": "python",
   "nbconvert_exporter": "python",
   "pygments_lexer": "ipython3",
   "version": "3.10.0"
  }
 },
 "nbformat": 4,
 "nbformat_minor": 2
}
