{
 "cells": [
  {
   "cell_type": "code",
   "execution_count": 21,
   "metadata": {},
   "outputs": [
    {
     "name": "stdout",
     "output_type": "stream",
     "text": [
      "Sent to Arduino: 1\n"
     ]
    },
    {
     "data": {
      "text/plain": [
       "\"\\nfor i in range(10):\\n    send_to_arduino(1, 'COM4', 9600)  # Replace 'COM3' with your Arduino's port\\n    time.sleep(0.5)\\n    send_to_arduino(0, 'COM4', 9600)\\n\""
      ]
     },
     "execution_count": 21,
     "metadata": {},
     "output_type": "execute_result"
    }
   ],
   "source": [
    "import serial\n",
    "import time\n",
    "\n",
    "def send_to_arduino(value, port='COM4', baud_rate=9600):\n",
    "    \"\"\"\n",
    "    Sends a classification result to an Arduino via serial communication.\n",
    "\n",
    "    Args:\n",
    "        value (int): 0 for non-defective, 1 for defective.\n",
    "        port (str): Serial port connected to Arduino (e.g., 'COM3', '/dev/ttyUSB0').\n",
    "        baud_rate (int): Communication speed (default is 9600 baud).\n",
    "    \"\"\"\n",
    "    try:\n",
    "        with serial.Serial(port, baud_rate, timeout=1) as arduino:\n",
    "            time.sleep(5)  # Allow Arduino to initialize\n",
    "            data = f\"{value}\\n\".encode()  # Convert value to string and add newline\n",
    "            arduino.write(data)\n",
    "            print(f\"Sent to Arduino: {data.decode().strip()}\")\n",
    "    except serial.SerialException as e:\n",
    "        print(f\"Error communicating with Arduino: {e}\")\n",
    "\n",
    "# Example usage\n",
    "send_to_arduino(1, port='COM4')  # Replace 'COM3' with your Arduino's port\n",
    "'''\n",
    "for i in range(10):\n",
    "    send_to_arduino(1, 'COM4', 9600)  # Replace 'COM3' with your Arduino's port\n",
    "    time.sleep(0.5)\n",
    "    send_to_arduino(0, 'COM4', 9600)\n",
    "'''\n"
   ]
  }
 ],
 "metadata": {
  "kernelspec": {
   "display_name": "Python 3",
   "language": "python",
   "name": "python3"
  },
  "language_info": {
   "codemirror_mode": {
    "name": "ipython",
    "version": 3
   },
   "file_extension": ".py",
   "mimetype": "text/x-python",
   "name": "python",
   "nbconvert_exporter": "python",
   "pygments_lexer": "ipython3",
   "version": "3.10.0"
  }
 },
 "nbformat": 4,
 "nbformat_minor": 2
}
