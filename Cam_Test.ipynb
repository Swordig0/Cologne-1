{
 "cells": [
  {
   "cell_type": "code",
   "execution_count": 1,
   "metadata": {},
   "outputs": [
    {
     "name": "stdout",
     "output_type": "stream",
     "text": [
      "Testing connected cameras...\n",
      "Camera index 0 is available.\n",
      "Camera index 1 is available.\n",
      "Camera index 2 is not available.\n",
      "Camera index 3 is not available.\n",
      "Camera index 4 is not available.\n",
      "Camera index 5 is not available.\n",
      "Camera index 6 is not available.\n",
      "Camera index 7 is not available.\n",
      "Camera index 8 is not available.\n",
      "Camera index 9 is not available.\n"
     ]
    }
   ],
   "source": [
    "import cv2\n",
    "\n",
    "print(\"Testing connected cameras...\")\n",
    "for i in range(10):  # Test indices 0-9\n",
    "    cap = cv2.VideoCapture(i, cv2.CAP_DSHOW)\n",
    "    if cap.isOpened():\n",
    "        print(f\"Camera index {i} is available.\")\n",
    "        cap.release()\n",
    "    else:\n",
    "        print(f\"Camera index {i} is not available.\")\n"
   ]
  }
 ],
 "metadata": {
  "kernelspec": {
   "display_name": "Python 3",
   "language": "python",
   "name": "python3"
  },
  "language_info": {
   "codemirror_mode": {
    "name": "ipython",
    "version": 3
   },
   "file_extension": ".py",
   "mimetype": "text/x-python",
   "name": "python",
   "nbconvert_exporter": "python",
   "pygments_lexer": "ipython3",
   "version": "3.10.0"
  }
 },
 "nbformat": 4,
 "nbformat_minor": 2
}
