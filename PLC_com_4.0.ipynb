{
 "cells": [
  {
   "cell_type": "code",
   "execution_count": 10,
   "metadata": {},
   "outputs": [
    {
     "name": "stderr",
     "output_type": "stream",
     "text": [
      "Exception response 134 / 0\n"
     ]
    },
    {
     "name": "stdout",
     "output_type": "stream",
     "text": [
      "Connection successful\n",
      "Write Error: ExceptionResponse(dev_id=1, transaction_id=1, address=0, count=0, bits=[], registers=[], status=1)\n",
      "Read Values: [0, 0, 0, 0, 0, 0, 0, 0, 0, 0]\n"
     ]
    }
   ],
   "source": [
    "from pymodbus.client import ModbusTcpClient\n",
    "\n",
    "# Step 1: Define PLC IP and Port\n",
    "PLC_IP = \"192.168.1.111\"  # Replace with your PLC's IP address\n",
    "PLC_PORT = 502           # Modbus TCP default port\n",
    "\n",
    "# Step 2: Create a Modbus Client\n",
    "client = ModbusTcpClient(PLC_IP, port=PLC_PORT)\n",
    "\n",
    "# Step 3: Connect to the PLC\n",
    "if client.connect():\n",
    "    print(\"Connection successful\")\n",
    "\n",
    "    # Step 4: Write to a Holding Register (e.g., D0 mapped to 40001)\n",
    "    write_result = client.write_register(0, 3073)  # Write 12345 to holding register 40001\n",
    "    if write_result.isError():\n",
    "        print(\"Write Error:\", write_result)\n",
    "    else:\n",
    "        print(\"Write Successful\")\n",
    "\n",
    "    # Step 5: Read Holding Registers (e.g., D0 mapped to 40001)\n",
    "    # Updated syntax for reading holding registers\n",
    "    read_result = client.read_holding_registers(address=0, count=10)  # Read 10 registers starting at 40001\n",
    "    if read_result.isError():\n",
    "        print(\"Read Error:\", read_result)\n",
    "    else:\n",
    "        print(\"Read Values:\", read_result.registers)\n",
    "\n",
    "    # Step 6: Close the Connection\n",
    "    client.close()\n",
    "else:\n",
    "    print(\"Failed to connect to PLC\")\n"
   ]
  }
 ],
 "metadata": {
  "kernelspec": {
   "display_name": "Python 3",
   "language": "python",
   "name": "python3"
  },
  "language_info": {
   "codemirror_mode": {
    "name": "ipython",
    "version": 3
   },
   "file_extension": ".py",
   "mimetype": "text/x-python",
   "name": "python",
   "nbconvert_exporter": "python",
   "pygments_lexer": "ipython3",
   "version": "3.10.0"
  }
 },
 "nbformat": 4,
 "nbformat_minor": 2
}
