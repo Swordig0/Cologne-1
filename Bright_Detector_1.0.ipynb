{
 "cells": [
  {
   "cell_type": "code",
   "execution_count": null,
   "metadata": {},
   "outputs": [],
   "source": [
    "import os\n",
    "\n",
    "def process_brightness_batch(input_path, output_path):\n",
    "    \"\"\"\n",
    "    Processes a batch of images, measures brightness, and saves results.\n",
    "\n",
    "    Args:\n",
    "        input_path (str): Path to the folder containing input images.\n",
    "        output_path (str): Path to save results.\n",
    "    \"\"\"\n",
    "    if not os.path.exists(output_path):\n",
    "        os.makedirs(output_path)  # Create the output directory if it doesn't exist\n",
    "\n",
    "    brightness_scores = []\n",
    "\n",
    "    for filename in os.listdir(input_path):\n",
    "        input_file = os.path.join(input_path, filename)\n",
    "\n",
    "        # Ensure the file is an image\n",
    "        if not filename.lower().endswith(('.png', '.jpg', '.jpeg')):\n",
    "            continue\n",
    "\n",
    "        # Read the image\n",
    "        frame = cv2.imread(input_file)\n",
    "        if frame is None:\n",
    "            print(f\"Failed to read {input_file}. Skipping...\")\n",
    "            continue\n",
    "\n",
    "        # Measure brightness\n",
    "        brightness = measure_brightness(frame)\n",
    "        brightness_scores.append((filename, brightness))\n",
    "\n",
    "        print(f\"Processed {filename}: Brightness = {brightness:.2f}\")\n",
    "\n",
    "    # Save brightness scores to a text file\n",
    "    scores_file = os.path.join(output_path, \"brightness_scores.txt\")\n",
    "    with open(scores_file, \"w\") as f:\n",
    "        for filename, brightness in sorted(brightness_scores, key=lambda x: x[1], reverse=True):\n",
    "            f.write(f\"{filename}: {brightness:.2f}\\n\")\n",
    "\n",
    "# Example usage\n",
    "input_path = \"path/to/input_images\"   # Replace with your input images path\n",
    "output_path = \"path/to/output_results\"  # Replace with your results path\n",
    "process_brightness_batch(input_path, output_path)\n"
   ]
  }
 ],
 "metadata": {
  "language_info": {
   "name": "python"
  }
 },
 "nbformat": 4,
 "nbformat_minor": 2
}
