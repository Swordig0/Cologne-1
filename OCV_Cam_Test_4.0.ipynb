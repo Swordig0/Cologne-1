{
 "cells": [
  {
   "cell_type": "code",
   "execution_count": 3,
   "metadata": {},
   "outputs": [],
   "source": [
    "import cv2"
   ]
  },
  {
   "cell_type": "code",
   "execution_count": null,
   "metadata": {},
   "outputs": [
    {
     "name": "stdout",
     "output_type": "stream",
     "text": [
      "Camera opened successfully\n",
      "Resolution: 640.0x480.0\n"
     ]
    },
    {
     "ename": "error",
     "evalue": "OpenCV(4.10.0) :-1: error: (-5:Bad argument) in function 'imshow'\n> Overload resolution failed:\n>  - mat is not a numpy array, neither a scalar\n>  - Expected Ptr<cv::cuda::GpuMat> for argument 'mat'\n>  - Expected Ptr<cv::UMat> for argument 'mat'\n",
     "output_type": "error",
     "traceback": [
      "\u001b[1;31m---------------------------------------------------------------------------\u001b[0m",
      "\u001b[1;31merror\u001b[0m                                     Traceback (most recent call last)",
      "Cell \u001b[1;32mIn[6], line 32\u001b[0m\n\u001b[0;32m     30\u001b[0m \u001b[38;5;66;03m#cap.set(cv2.CAP_PROP_FPS, desired_fps)\u001b[39;00m\n\u001b[0;32m     31\u001b[0m image_path \u001b[38;5;241m=\u001b[39m \u001b[38;5;124m\"\u001b[39m\u001b[38;5;124mno-bottle.bmp\u001b[39m\u001b[38;5;124m\"\u001b[39m\n\u001b[1;32m---> 32\u001b[0m \u001b[43mcv2\u001b[49m\u001b[38;5;241;43m.\u001b[39;49m\u001b[43mimshow\u001b[49m\u001b[43m(\u001b[49m\u001b[38;5;124;43m\"\u001b[39;49m\u001b[38;5;124;43mBest Frame\u001b[39;49m\u001b[38;5;124;43m\"\u001b[39;49m\u001b[43m,\u001b[49m\u001b[43m \u001b[49m\u001b[43mimage_path\u001b[49m\u001b[43m)\u001b[49m  \u001b[38;5;66;03m# Display the frame\u001b[39;00m\n\u001b[0;32m     34\u001b[0m \u001b[38;5;66;03m# Verify the frame rate\u001b[39;00m\n\u001b[0;32m     35\u001b[0m actual_fps \u001b[38;5;241m=\u001b[39m cap\u001b[38;5;241m.\u001b[39mget(cv2\u001b[38;5;241m.\u001b[39mCAP_PROP_FPS)\n",
      "\u001b[1;31merror\u001b[0m: OpenCV(4.10.0) :-1: error: (-5:Bad argument) in function 'imshow'\n> Overload resolution failed:\n>  - mat is not a numpy array, neither a scalar\n>  - Expected Ptr<cv::cuda::GpuMat> for argument 'mat'\n>  - Expected Ptr<cv::UMat> for argument 'mat'\n"
     ]
    }
   ],
   "source": [
    "# Open the camera\n",
    "cap = cv2.VideoCapture(0)  # Default camera\n",
    "\n",
    "if not cap.isOpened():\n",
    "    print(\"Cannot open camera\")\n",
    "else:\n",
    "    print(\"Camera opened successfully\")\n",
    "\n",
    "# Read and display frames\n",
    "while True:\n",
    "    ret, frame = cap.read()  # Capture frame\n",
    "    if not ret:\n",
    "        print(\"Failed to grab frame\")\n",
    "        break\n",
    "\n",
    "    \n",
    "    # Set resolution\n",
    "    #cap.set(cv2.CAP_PROP_FRAME_WIDTH, 640)\n",
    "    #cap.set(cv2.CAP_PROP_FRAME_HEIGHT, 480)\n",
    "\n",
    "    \n",
    "\n",
    "    # Verify resolution\n",
    "    width = cap.get(cv2.CAP_PROP_FRAME_WIDTH)\n",
    "    height = cap.get(cv2.CAP_PROP_FRAME_HEIGHT)\n",
    "    print(f\"Resolution: {width}x{height}\")\n",
    "\n",
    "    # Set desired frame rate\n",
    "    desired_fps = 240  # Set this to your camera's maximum frame rate\n",
    "    #cap.set(cv2.CAP_PROP_FPS, desired_fps)\n",
    "\n",
    "    if \n",
    "# Path to the pre-saved image\n",
    "image_path = \"no-bottle.bmp\"  # Replace with your image file path\n",
    "\n",
    "# Read the image\n",
    "image = cv2.imread(image_path)\n",
    "\n",
    "# Check if the image was loaded successfully\n",
    "if image is None:\n",
    "    print(\"Error: Could not load the image.\")\n",
    "else:\n",
    "    # Display the image in a window\n",
    "    cv2.imshow(\"Pre-Saved Image\", image)\n",
    "\n",
    "    # Wait for a key press and close the window\n",
    "    cv2.waitKey(0)  # 0 means wait indefinitely until a key is pressed\n",
    "    image_path = \"no-bottle.bmp\"\n",
    "    cv2.imshow(\"Best Frame\", image_path)  # Display the frame\n",
    "\n",
    "    # Verify the frame rate\n",
    "    actual_fps = cap.get(cv2.CAP_PROP_FPS)\n",
    "    print(f\"Set Frame Rate: {desired_fps}, Actual Frame Rate: {actual_fps}\")\n",
    "\n",
    "    '''\n",
    "    #Frame Counter\n",
    "    frame_count = 0\n",
    "    start_time = time.time()\n",
    "\n",
    "    while frame_count < 100:  # Capture 100 frames\n",
    "        ret, frame = cap.read()\n",
    "        if not ret:\n",
    "            break\n",
    "        frame_count += 1\n",
    "\n",
    "    end_time = time.time()\n",
    "    fps = frame_count / (end_time - start_time)\n",
    "    print(f\"Effective Frame Rate: {fps:.2f} FPS\")\n",
    "    '''\n",
    "\n",
    "    # Exit on pressing 'q'\n",
    "    if cv2.waitKey(1) & 0xFF == ord('q'):\n",
    "        break\n",
    "\n",
    "# Release the camera and close all windows\n",
    "cap.release()\n",
    "cv2.destroyAllWindows()\n"
   ]
  },
  {
   "cell_type": "code",
   "execution_count": 5,
   "metadata": {},
   "outputs": [],
   "source": [
    "import cv2\n",
    "\n",
    "# Path to the pre-saved image\n",
    "image_path = \"no-bottle.bmp\"  # Replace with your image file path\n",
    "\n",
    "# Read the image\n",
    "image = cv2.imread(image_path)\n",
    "\n",
    "# Check if the image was loaded successfully\n",
    "if image is None:\n",
    "    print(\"Error: Could not load the image.\")\n",
    "else:\n",
    "    # Display the image in a window\n",
    "    cv2.imshow(\"Pre-Saved Image\", image)\n",
    "\n",
    "    # Wait for a key press and close the window\n",
    "    cv2.waitKey(0)  # 0 means wait indefinitely until a key is pressed\n",
    "    cv2.destroyAllWindows()\n"
   ]
  },
  {
   "cell_type": "code",
   "execution_count": null,
   "metadata": {},
   "outputs": [],
   "source": [
    "import cv2\n",
    "image_path = \"no-bottle.bmp\"\n",
    "image = cv2.imread(image_path)\n",
    "# Display the image in a window\n",
    "cv2.imshow(\"Pre-Saved Image\", image)\n",
    "\n",
    "    # Wait for a key press and close the window\n",
    "cv2.waitKey(0)  # 0 means wait indefinitely until a key is pressed\n",
    "cv2.destroyAllWindows()\n"
   ]
  }
 ],
 "metadata": {
  "kernelspec": {
   "display_name": "Python 3",
   "language": "python",
   "name": "python3"
  },
  "language_info": {
   "codemirror_mode": {
    "name": "ipython",
    "version": 3
   },
   "file_extension": ".py",
   "mimetype": "text/x-python",
   "name": "python",
   "nbconvert_exporter": "python",
   "pygments_lexer": "ipython3",
   "version": "3.10.0"
  }
 },
 "nbformat": 4,
 "nbformat_minor": 2
}
