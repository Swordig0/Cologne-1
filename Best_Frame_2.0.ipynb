{
 "cells": [
  {
   "cell_type": "code",
   "execution_count": null,
   "metadata": {},
   "outputs": [],
   "source": [
    "import os\n",
    "import cv2\n",
    "import numpy as np"
   ]
  },
  {
   "cell_type": "code",
   "execution_count": null,
   "metadata": {},
   "outputs": [],
   "source": [
    "def crop_image(frame, x, y, w, h):\n",
    "    \"\"\"\n",
    "    Crops a region of interest (ROI) from an image.\n",
    "\n",
    "    Args:\n",
    "        frame (np.array): Input image.\n",
    "        x (int): X-coordinate of the top-left corner of the ROI.\n",
    "        y (int): Y-coordinate of the top-left corner of the ROI.\n",
    "        w (int): Width of the ROI.\n",
    "        h (int): Height of the ROI.\n",
    "\n",
    "    Returns:\n",
    "        np.array: Cropped image.\n",
    "    \"\"\"\n",
    "    return frame[y:y+h, x:x+w]"
   ]
  },
  {
   "cell_type": "code",
   "execution_count": null,
   "metadata": {},
   "outputs": [],
   "source": [
    "def measure_brightness(frame):\n",
    "    \"\"\"\n",
    "    Measures the brightness of an image by calculating the average pixel intensity.\n",
    "\n",
    "    Args:\n",
    "        frame (np.array): Input image in BGR format.\n",
    "\n",
    "    Returns:\n",
    "        float: Average brightness of the image.\n",
    "    \"\"\"\n",
    "    gray = cv2.cvtColor(frame, cv2.COLOR_BGR2GRAY)  # Convert to grayscale\n",
    "    brightness = np.mean(gray)  # Compute the mean intensity\n",
    "    return brightness"
   ]
  },
  {
   "cell_type": "code",
   "execution_count": null,
   "metadata": {},
   "outputs": [],
   "source": [
    "def select_best_frame(frame_buffer):\n",
    "    \"\"\"\n",
    "    Selects the best frame based on Brightness.\n",
    "\n",
    "    Args:\n",
    "        frame_buffer (list): List of frames.\n",
    "\n",
    "    Returns:\n",
    "        np.array: The best frame.\n",
    "    \"\"\"\n",
    "    best_frame = None\n",
    "    best_score = -1  # Initialize with a very low score\n",
    "\n",
    "    for frame in frame_buffer:\n",
    "        # Measure edge richness\n",
    "        score = measure_brightness(frame)\n",
    "        if score > best_score:\n",
    "            best_score = score\n",
    "            best_frame = frame\n",
    "\n",
    "    return best_frame\n"
   ]
  },
  {
   "cell_type": "code",
   "execution_count": null,
   "metadata": {},
   "outputs": [],
   "source": [
    "cap = cv2.VideoCapture(0)  # Open webcam\n",
    "frame_buffer = []\n",
    "max_frames = 30  # Number of frames to evaluate\n",
    "\n",
    "while True:\n",
    "    ret, frame = cap.read()\n",
    "    if not ret:\n",
    "        print(\"Failed to capture frame. Exiting...\")\n",
    "        break\n",
    "\n",
    "    frame_buffer.append(frame)\n",
    "\n",
    "    # Process the buffer when it's full\n",
    "    if len(frame_buffer) == max_frames:\n",
    "        best_frame = select_best_frame(frame_buffer)\n",
    "        frame_buffer = []  # Clear the buffer\n",
    "\n",
    "        # Display the best frame\n",
    "        cv2.imshow(\"Best Frame\", best_frame)\n",
    "\n",
    "        # Add further processing (e.g., prediction)\n",
    "        # predicted_label, confidence = predict_frame(best_frame, model, target_size=(128, 128))\n",
    "        # print(f\"Prediction: {predicted_label}, Confidence: {confidence:.2f}\")\n",
    "\n",
    "    # Exit on 'ESC' key\n",
    "    if cv2.waitKey(1) & 0xFF == 27:\n",
    "        break\n",
    "\n",
    "cap.release()\n",
    "cv2.destroyAllWindows()\n"
   ]
  }
 ],
 "metadata": {
  "kernelspec": {
   "display_name": "Python 3",
   "language": "python",
   "name": "python3"
  },
  "language_info": {
   "name": "python",
   "version": "3.10.0"
  }
 },
 "nbformat": 4,
 "nbformat_minor": 2
}
