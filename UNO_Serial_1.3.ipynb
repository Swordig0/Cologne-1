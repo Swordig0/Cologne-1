{
 "cells": [
  {
   "cell_type": "code",
   "execution_count": 12,
   "metadata": {},
   "outputs": [
    {
     "name": "stdout",
     "output_type": "stream",
     "text": [
      "Arduino connected. Waiting for initialization...\n",
      "Sent: 1\n",
      "Sent: 0\n",
      "Sent: 1\n",
      "Sent: 0\n",
      "Sent: 1\n",
      "Sent: 0\n",
      "Sent: 1\n",
      "Sent: 0\n",
      "Sent: 1\n",
      "Sent: 0\n",
      "Sent: 1\n",
      "Sent: 0\n",
      "Sent: 1\n",
      "Sent: 0\n",
      "Sent: 1\n",
      "Sent: 0\n",
      "Sent: 1\n",
      "Sent: 0\n",
      "Sent: 1\n",
      "Sent: 0\n",
      "Sent: 1\n",
      "Sent: 0\n"
     ]
    }
   ],
   "source": [
    "import serial\n",
    "import time\n",
    "\n",
    "def setup_serial_connection(port='COM4', baud_rate=9600):\n",
    "    arduino = serial.Serial(port, baud_rate, timeout=1)\n",
    "    print(\"Arduino connected. Waiting for initialization...\")\n",
    "    arduino.flush()  # Clear any remaining data\n",
    "    return arduino\n",
    "\n",
    "def send_to_arduino(arduino, value):\n",
    "    arduino.write(f\"{value}\\n\".encode())\n",
    "    print(f\"Sent: {value}\")\n",
    "\n",
    "arduino = setup_serial_connection('COM4')  # Connect once\n",
    "send_to_arduino(arduino, 1)  # Send data (Defective)\n",
    "send_to_arduino(arduino, 0)  # Send data (Non-Defective)\n",
    "\n",
    "for i in range(10):\n",
    "    send_to_arduino(arduino, 1)  # Send data (Defective)\n",
    "    time.sleep(0.1)\n",
    "    send_to_arduino(arduino, 0)  # Send data (Non-Defective)\n",
    "    time.sleep(0.1)\n",
    "arduino.close()\n"
   ]
  }
 ],
 "metadata": {
  "kernelspec": {
   "display_name": "Python 3",
   "language": "python",
   "name": "python3"
  },
  "language_info": {
   "codemirror_mode": {
    "name": "ipython",
    "version": 3
   },
   "file_extension": ".py",
   "mimetype": "text/x-python",
   "name": "python",
   "nbconvert_exporter": "python",
   "pygments_lexer": "ipython3",
   "version": "3.10.0"
  }
 },
 "nbformat": 4,
 "nbformat_minor": 2
}
